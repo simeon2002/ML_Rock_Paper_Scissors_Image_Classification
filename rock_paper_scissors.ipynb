{
 "cells": [
  {
   "cell_type": "markdown",
   "metadata": {},
   "source": [
    "# Machine learning model for rock-paper scissors image classificatoin\n",
    "\n",
    "## 1. NN implementaton\n",
    "In this implementation a NN model will be created, fitted and optimized to classify the images"
   ]
  },
  {
   "cell_type": "code",
   "execution_count": 1,
   "metadata": {},
   "outputs": [
    {
     "ename": "ModuleNotFoundError",
     "evalue": "No module named 'tensorflow'",
     "output_type": "error",
     "traceback": [
      "\u001b[1;31m---------------------------------------------------------------------------\u001b[0m",
      "\u001b[1;31mModuleNotFoundError\u001b[0m                       Traceback (most recent call last)",
      "Cell \u001b[1;32mIn[1], line 1\u001b[0m\n\u001b[1;32m----> 1\u001b[0m \u001b[38;5;28;01mimport\u001b[39;00m \u001b[38;5;21;01mtensorflow\u001b[39;00m \u001b[38;5;28;01mas\u001b[39;00m \u001b[38;5;21;01mtf\u001b[39;00m\n\u001b[0;32m      2\u001b[0m \u001b[38;5;28;01mfrom\u001b[39;00m \u001b[38;5;21;01mtensorflow\u001b[39;00m\u001b[38;5;21;01m.\u001b[39;00m\u001b[38;5;21;01mkeras\u001b[39;00m \u001b[38;5;28;01mimport\u001b[39;00m layers\n\u001b[0;32m      3\u001b[0m \u001b[38;5;28;01mfrom\u001b[39;00m \u001b[38;5;21;01mtensorflow\u001b[39;00m\u001b[38;5;21;01m.\u001b[39;00m\u001b[38;5;21;01mkeras\u001b[39;00m\u001b[38;5;21;01m.\u001b[39;00m\u001b[38;5;21;01mmodels\u001b[39;00m \u001b[38;5;28;01mimport\u001b[39;00m Sequential\n",
      "\u001b[1;31mModuleNotFoundError\u001b[0m: No module named 'tensorflow'"
     ]
    }
   ],
   "source": [
    "import tensorflow as tf\n",
    "from tensorflow.keras import layers\n",
    "from tensorflow.keras.models import Sequential\n",
    "\n",
    "# Set paths for train, validation, and test directories\n",
    "train_dir = \"./Rock-Paper-Scissors/train\"\n",
    "val_dir = \"./Rock-Paper-Scissors/validation\"\n",
    "test_dir = \"./Rock-Paper-Scissors/test\"\n",
    "\n",
    "# Load datasets\n",
    "'''\n",
    "    creates pixels in grayscale 60x60 mode with a 32 batch size. \n",
    "    and note: labels => automatically inferred.\n",
    "'''\n",
    "\n",
    "train_dataset = tf.keras.utils.image_dataset_from_directory(\n",
    "    train_dir,\n",
    "    image_size=(60, 60),  \n",
    "    color_mode=\"grayscale\",  \n",
    "    batch_size=32           \n",
    ")\n",
    "\n",
    "val_dataset = tf.keras.utils.image_dataset_from_directory(\n",
    "    val_dir,\n",
    "    image_size=(60, 60),\n",
    "    color_mode=\"grayscale\",  \n",
    "    batch_size=32\n",
    ")\n",
    "\n",
    "\n",
    "test_dataset = tf.keras.utils.image_dataset_from_directory(\n",
    "    test_dir,\n",
    "    image_size=(60, 60),\n",
    "    color_mode=\"grayscale\",  \n",
    "    batch_size=32\n",
    ")\n",
    "\n",
    "# Rescale pixels\n",
    "normalization_layer = layers.Rescaling(1./255)\n",
    "\n",
    "train_dataset = train_dataset.map(lambda x, y: (normalization_layer(x), y))\n",
    "val_dataset = val_dataset.map(lambda x, y: (normalization_layer(x), y))\n",
    "test_dataset = test_dataset.map(lambda x, y: (normalization_layer(x), y))\n",
    "\n",
    "# Shuffle and prefetch for efficiency\n",
    "# prefetching => used to make loading data and preprocessing async to model training\n",
    "AUTOTUNE = tf.data.AUTOTUNE\n",
    "train_dataset = train_dataset.shuffle(1000).prefetch(buffer_size=AUTOTUNE)\n",
    "val_dataset = val_dataset.prefetch(buffer_size=AUTOTUNE)\n",
    "test_dataset = test_dataset.prefetch(buffer_size=AUTOTUNE)\n",
    "\n",
    "# # NN model\n",
    "# model = Sequential([\n",
    "#     layers.Flatten(input_shape=(60, 60, 1)),  # Input shape for grayscale images\n",
    "#     layers.Dense(128, activation='relu'),    # Hidden layer\n",
    "#     layers.Dense(3, activation='softmax')    # Output layer (3 classes: Rock, Paper, Scissors)\n",
    "# ])\n",
    "\n",
    "# # Compile the model\n",
    "# model.compile(\n",
    "#     optimizer='adam',\n",
    "#     loss='sparse_categorical_crossentropy',  # Use sparse if labels are integers\n",
    "#     metrics=['accuracy']\n",
    "# )\n",
    "\n",
    "# # Train the model\n",
    "# history = model.fit(\n",
    "#     train_dataset,\n",
    "#     validation_data=val_dataset,  # Use the validation dataset\n",
    "#     epochs=10\n",
    "# )\n",
    "\n",
    "# # Evaluate the model\n",
    "# test_loss, test_acc = model.evaluate(test_dataset)\n",
    "# print(f\"Test Accuracy: {test_acc}\")\n",
    "\n",
    "\n"
   ]
  }
 ],
 "metadata": {
  "kernelspec": {
   "display_name": "Python 3",
   "language": "python",
   "name": "python3"
  },
  "language_info": {
   "codemirror_mode": {
    "name": "ipython",
    "version": 3
   },
   "file_extension": ".py",
   "mimetype": "text/x-python",
   "name": "python",
   "nbconvert_exporter": "python",
   "pygments_lexer": "ipython3",
   "version": "3.12.8"
  }
 },
 "nbformat": 4,
 "nbformat_minor": 2
}
