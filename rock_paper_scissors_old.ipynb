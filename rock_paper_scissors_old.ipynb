{
 "cells": [
  {
   "cell_type": "markdown",
   "metadata": {},
   "source": [
    "# Redistribute Dataset split\n",
    "Currente is bad 33 files inside of validation folder. There are in total 2926 images which needs to be redistributed into a 70:15:15 **random** split. Currently there are 2521 images in the train folder, 33 in the validation folder, and 372 in the test folder.\n",
    "\n",
    "*Note: the shuffling only happened once. Once code is re-executed, the same images will be present in the corresponding folder!*"
   ]
  },
  {
   "cell_type": "code",
   "execution_count": 29,
   "metadata": {},
   "outputs": [
    {
     "name": "stdout",
     "output_type": "stream",
     "text": [
      "Training size: 2048, Validation size: 439, Test size: 439\n",
      "Resplit completed!\n"
     ]
    }
   ],
   "source": [
    "import os\n",
    "import random\n",
    "import shutil\n",
    "\n",
    "# Seed for reproducibility\n",
    "random.seed(42)\n",
    "\n",
    "# Function to clear the contents of a directory\n",
    "def clear_directory(directory):\n",
    "    if os.path.exists(directory):\n",
    "        shutil.rmtree(directory)  # Deletes the directory and its contents\n",
    "    os.makedirs(directory, exist_ok=True)  # Recreates the directory\n",
    "\n",
    "# Directories\n",
    "base_dir = \"./Rock-Paper-Scissors\"\n",
    "train_dir = os.path.join(base_dir, \"train\")\n",
    "val_dir = os.path.join(base_dir, \"validation\")\n",
    "test_dir = os.path.join(base_dir, \"test\")\n",
    "\n",
    "# Temporary directory to consolidate all images\n",
    "temp_dir = os.path.join(base_dir, \"all_images\")\n",
    "clear_directory(temp_dir)\n",
    "\n",
    "# Target directories for the final split\n",
    "new_train_dir = os.path.join(base_dir, \"resplit_train\")\n",
    "new_val_dir = os.path.join(base_dir, \"resplit_validation\")\n",
    "new_test_dir = os.path.join(base_dir, \"resplit_test\")\n",
    "\n",
    "# Clear existing directories\n",
    "clear_directory(new_train_dir)\n",
    "clear_directory(new_val_dir)\n",
    "clear_directory(new_test_dir)\n",
    "\n",
    "# Step 1: Consolidate all images into one folder\n",
    "def consolidate_images(src_dir, temp_dir, class_name=None):\n",
    "    for root, _, files in os.walk(src_dir):\n",
    "        for file in files:\n",
    "            if file.endswith(('.png', '.jpg', '.jpeg')):\n",
    "                src_path = os.path.join(root, file)\n",
    "                if class_name:  # Add class name as prefix for validation images\n",
    "                    dst_path = os.path.join(temp_dir, f\"{class_name}_{file}\")\n",
    "                else:\n",
    "                    dst_path = os.path.join(temp_dir, file)\n",
    "                shutil.copy(src_path, dst_path)\n",
    "\n",
    "# Consolidate images from train, test, and validation folders\n",
    "for class_name in [\"scissors\", \"paper\", \"rock\"]:\n",
    "    consolidate_images(os.path.join(train_dir, class_name), temp_dir, class_name)\n",
    "    consolidate_images(os.path.join(test_dir, class_name), temp_dir, class_name)\n",
    "consolidate_images(val_dir, temp_dir)  # Validation images are directly in this folder\n",
    "\n",
    "# Step 2: Split images into train, validation, and test\n",
    "all_images = os.listdir(temp_dir)\n",
    "random.shuffle(all_images)\n",
    "\n",
    "# Calculate exact split sizes\n",
    "total_images = len(all_images)\n",
    "train_size = int(total_images * 0.7)\n",
    "remaining = total_images - train_size\n",
    "val_size = remaining // 2\n",
    "test_size = remaining - val_size\n",
    "\n",
    "# Check and print sizes\n",
    "print(f\"Training size: {train_size}, Validation size: {val_size}, Test size: {test_size}\")\n",
    "\n",
    "# Split the images\n",
    "train_images = all_images[:train_size]\n",
    "val_images = all_images[train_size:train_size + val_size]\n",
    "test_images = all_images[train_size + val_size:]\n",
    "\n",
    "# Step 3: Move images to the new directories\n",
    "def move_images(image_list, target_dir, no_subfolders=False):\n",
    "    for img in image_list:\n",
    "        src_path = os.path.join(temp_dir, img)\n",
    "        if \"_\" in img and not no_subfolders:  # For train and test, keep subfolders\n",
    "            class_name = img.split(\"_\")[0]\n",
    "            class_dir = os.path.join(target_dir, class_name)\n",
    "            os.makedirs(class_dir, exist_ok=True)\n",
    "            shutil.move(src_path, os.path.join(class_dir, img))\n",
    "        else:  # For validation, move images directly\n",
    "            shutil.move(src_path, os.path.join(target_dir, img))\n",
    "\n",
    "# Move images to their respective folders\n",
    "move_images(train_images, new_train_dir)\n",
    "move_images(val_images, new_val_dir, no_subfolders=True)  # No subfolders for validation\n",
    "move_images(test_images, new_test_dir)\n",
    "\n",
    "# Remove temporary directory after use\n",
    "shutil.rmtree(temp_dir)\n",
    "\n",
    "print(\"Resplit completed!\")\n"
   ]
  },
  {
   "cell_type": "markdown",
   "metadata": {},
   "source": [
    "Validate **new split in resplit_XXX directories**"
   ]
  },
  {
   "cell_type": "code",
   "execution_count": null,
   "metadata": {},
   "outputs": [],
   "source": [
    "def count_images_in_split(target_dir):\n",
    "    for split in [\"resplit_train\", \"resplit_validation\", \"resplit_test\"]:\n",
    "        split_dir = os.path.join(base_dir, split)\n",
    "        total_images = sum([len(files) for _, _, files in os.walk(split_dir)])\n",
    "        print(f\"{split.capitalize()} Set: {total_images} images\")\n",
    "\n",
    "count_images_in_split(base_dir)"
   ]
  },
  {
   "cell_type": "markdown",
   "metadata": {},
   "source": [
    "# Machine learning model\n",
    "\n",
    "## 1. NN implementaton\n",
    "In this implementation a NN model will be created, fitted and optimized to classify the images\n",
    "\n",
    "### Preprocessing\n",
    "Fetch data and create test, validation and training datasets"
   ]
  },
  {
   "cell_type": "code",
   "execution_count": 1,
   "metadata": {},
   "outputs": [
    {
     "name": "stderr",
     "output_type": "stream",
     "text": [
      "2024-12-10 14:03:28.915817: I tensorflow/core/util/port.cc:113] oneDNN custom operations are on. You may see slightly different numerical results due to floating-point round-off errors from different computation orders. To turn them off, set the environment variable `TF_ENABLE_ONEDNN_OPTS=0`.\n",
      "2024-12-10 14:03:28.963531: I tensorflow/core/platform/cpu_feature_guard.cc:210] This TensorFlow binary is optimized to use available CPU instructions in performance-critical operations.\n",
      "To enable the following instructions: AVX2 AVX512F AVX512_VNNI FMA, in other operations, rebuild TensorFlow with the appropriate compiler flags.\n"
     ]
    },
    {
     "name": "stdout",
     "output_type": "stream",
     "text": [
      "Found 2024 files belonging to 3 classes.\n",
      "Validation images shape: (439, 300, 300, 1)\n",
      "Validation labels shape: (439,)\n",
      "Found 432 files belonging to 3 classes.\n"
     ]
    }
   ],
   "source": [
    "import tensorflow as tf\n",
    "from tensorflow.keras import layers\n",
    "from tensorflow.keras.models import Sequential\n",
    "from tensorflow.keras import regularizers\n",
    "import numpy as np\n",
    "import os\n",
    "from PIL import Image\n",
    "import matplotlib.pyplot as plt\n",
    "\n",
    "\n",
    "class_names = [\"paper\", \"rock\", \"scissors\"]\n",
    "\n",
    "def fetch_val_dataset(class_names, val_dir):\n",
    "    ''' \n",
    "    Fetch images from specified dir and process to grayscale and appropriate dims\n",
    "    '''\n",
    "\n",
    "    class_to_index = {class_name: i for i, class_name in enumerate(class_names)} # provide index for each label.\n",
    "    \n",
    "    # process images and store into array with corresponding labels\n",
    "    images = []\n",
    "    labels = []\n",
    "    \n",
    "    for file_name in os.listdir(val_dir):\n",
    "        if file_name.endswith(('.png', '.jpg', '.jpeg')):\n",
    "            # extract label from filename.\n",
    "            label = next((name for name in class_names if name in file_name.lower()), None) \n",
    "            if label is not None:\n",
    "                # Construct the full path to the image\n",
    "                file_path = os.path.join(val_dir, file_name)\n",
    "    \n",
    "                # Process image, i.e. graysale, resize and normalize!!\n",
    "                with Image.open(file_path).convert(\"L\") as img: #note: L grayscale image\n",
    "                    img = img.resize((300,300))\n",
    "                    img_array = np.array(img) / 255.0\n",
    "                    images.append(img_array)\n",
    "    \n",
    "            # append label's index.\n",
    "            labels.append(class_to_index[label])\n",
    "\n",
    "    # convert ot numpy arrays\n",
    "    X = np.array(images, dtype=\"float32\") # shape = each sample with 60x60 array\n",
    "    Y = np.array(labels, dtype=\"int32\") # shape is num of samples, 1\n",
    "\n",
    "    # add channel dimension to images (for grayscale input)\n",
    "    X = np.expand_dims(X, axis=-1)\n",
    "\n",
    "    return X, Y\n",
    "\n",
    "def visualize_tf_dataset(dataset, class_names, title=\"Dataset Samples\"):\n",
    "    '''\n",
    "    Visualize samples of tf_dataset dtype\n",
    "    '''\n",
    "    plt.figure(figsize=(10, 10))\n",
    "    for images, labels in dataset.take(1):  # Take one batch\n",
    "        for i in range(9):  # Show 9 samples\n",
    "            plt.subplot(3, 3, i + 1)\n",
    "            plt.imshow(images[i].numpy().squeeze(), cmap=\"gray\")  # Grayscale images\n",
    "            plt.title(class_names[labels[i].numpy()])\n",
    "            plt.axis(\"off\")\n",
    "    plt.suptitle(title)\n",
    "    plt.show()\n",
    "\n",
    "def plot_numpy_dataset(X, Y, class_names, title=\"Validation Dataset Samples\"):\n",
    "    '''\n",
    "    Visualize samples of Numpy array dtype\n",
    "    '''\n",
    "    plt.figure(figsize=(10, 10))\n",
    "    for i in range(9):\n",
    "        plt.subplot(3, 3, i + 1)\n",
    "        plt.imshow(X[i].squeeze(), cmap=\"gray\")\n",
    "        plt.title(class_names[Y[i]])\n",
    "        plt.axis(\"off\")\n",
    "    plt.suptitle(title)\n",
    "    plt.show()\n",
    "\n",
    "\n",
    "\n",
    "# Set paths for train, validation, and test directories\n",
    "train_dir = \"./Rock-Paper-Scissors/resplit_train\"\n",
    "val_dir = \"./Rock-Paper-Scissors/resplit_validation\"\n",
    "test_dir = \"./Rock-Paper-Scissors/resplit_test\"\n",
    "\n",
    "# Load datasets\n",
    "'''\n",
    "    creates pixels in grayscale 60x60 mode with a 32 batch size. \n",
    "    and note: labels => automatically inferred.\n",
    "'''\n",
    "\n",
    "train_dataset = tf.keras.utils.image_dataset_from_directory(\n",
    "    train_dir,\n",
    "    image_size=(300, 300),  \n",
    "    color_mode=\"grayscale\",  \n",
    "    batch_size=64           \n",
    ")\n",
    "\n",
    "X_val, Y_val = fetch_val_dataset(class_names, val_dir)\n",
    "print(f\"Validation images shape: {X_val.shape}\")  # Example: (33, 300, 300, 1)\n",
    "print(f\"Validation labels shape: {Y_val.shape}\")  # Example: (33,)\n",
    "\n",
    "\n",
    "test_dataset = tf.keras.utils.image_dataset_from_directory(\n",
    "    test_dir,\n",
    "    image_size=(300, 300),\n",
    "    color_mode=\"grayscale\",  \n",
    "    batch_size=64\n",
    ")\n",
    "\n",
    "# Rescale pixels\n",
    "normalization_layer = layers.Rescaling(1./255)\n",
    "\n",
    "train_dataset = train_dataset.map(lambda x, y: (normalization_layer(x), y))\n",
    "test_dataset = test_dataset.map(lambda x, y: (normalization_layer(x), y))\n",
    "\n",
    "\n",
    "# Shuffle and prefetch for efficiency\n",
    "AUTOTUNE = tf.data.AUTOTUNE # prefetching => used to make loading data and preprocessing async to model training\n",
    "train_dataset = train_dataset.shuffle(1000).prefetch(buffer_size=AUTOTUNE)\n",
    "test_dataset = test_dataset.prefetch(buffer_size=AUTOTUNE)\n",
    "val_dataset = tf.data.Dataset.from_tensor_slices((X_val, Y_val)).batch(64).prefetch(buffer_size=tf.data.AUTOTUNE)\n",
    "\n"
   ]
  },
  {
   "cell_type": "markdown",
   "metadata": {},
   "source": [
    "Visualize samples of each dataset to check correctness of preprocessing\n"
   ]
  },
  {
   "cell_type": "code",
   "execution_count": null,
   "metadata": {},
   "outputs": [],
   "source": [
    "#check whether preprocessing is succesfull by checking a couple of samples\n",
    "visualize_tf_dataset(train_dataset, class_names, title=\"Training Dataset Samples\")\n",
    "visualize_tf_dataset(test_dataset, class_names, title=\"Test Dataset Samples\")\n",
    "plot_numpy_dataset(X_val, Y_val, class_names, title=\"Validation Dataset Samples\")"
   ]
  },
  {
   "cell_type": "markdown",
   "metadata": {},
   "source": [
    "### NN model implementation\n",
    "Implement NN model, configure it with hyperparams, loss function to use and the optimizer.\n",
    "note: this is the fully connected NN (FCNN) model which won't be as accurate as a CNN model!"
   ]
  },
  {
   "cell_type": "code",
   "execution_count": 24,
   "metadata": {},
   "outputs": [
    {
     "data": {
      "text/html": [
       "<pre style=\"white-space:pre;overflow-x:auto;line-height:normal;font-family:Menlo,'DejaVu Sans Mono',consolas,'Courier New',monospace\"><span style=\"font-weight: bold\">Model: \"sequential_7\"</span>\n",
       "</pre>\n"
      ],
      "text/plain": [
       "\u001b[1mModel: \"sequential_7\"\u001b[0m\n"
      ]
     },
     "metadata": {},
     "output_type": "display_data"
    },
    {
     "data": {
      "text/html": [
       "<pre style=\"white-space:pre;overflow-x:auto;line-height:normal;font-family:Menlo,'DejaVu Sans Mono',consolas,'Courier New',monospace\">┏━━━━━━━━━━━━━━━━━━━━━━━━━━━━━━━━━┳━━━━━━━━━━━━━━━━━━━━━━━━┳━━━━━━━━━━━━━━━┓\n",
       "┃<span style=\"font-weight: bold\"> Layer (type)                    </span>┃<span style=\"font-weight: bold\"> Output Shape           </span>┃<span style=\"font-weight: bold\">       Param # </span>┃\n",
       "┡━━━━━━━━━━━━━━━━━━━━━━━━━━━━━━━━━╇━━━━━━━━━━━━━━━━━━━━━━━━╇━━━━━━━━━━━━━━━┩\n",
       "│ flatten_7 (<span style=\"color: #0087ff; text-decoration-color: #0087ff\">Flatten</span>)             │ (<span style=\"color: #00d7ff; text-decoration-color: #00d7ff\">None</span>, <span style=\"color: #00af00; text-decoration-color: #00af00\">90000</span>)          │             <span style=\"color: #00af00; text-decoration-color: #00af00\">0</span> │\n",
       "├─────────────────────────────────┼────────────────────────┼───────────────┤\n",
       "│ L1 (<span style=\"color: #0087ff; text-decoration-color: #0087ff\">Dense</span>)                      │ (<span style=\"color: #00d7ff; text-decoration-color: #00d7ff\">None</span>, <span style=\"color: #00af00; text-decoration-color: #00af00\">128</span>)            │    <span style=\"color: #00af00; text-decoration-color: #00af00\">11,520,128</span> │\n",
       "├─────────────────────────────────┼────────────────────────┼───────────────┤\n",
       "│ L2 (<span style=\"color: #0087ff; text-decoration-color: #0087ff\">Dense</span>)                      │ (<span style=\"color: #00d7ff; text-decoration-color: #00d7ff\">None</span>, <span style=\"color: #00af00; text-decoration-color: #00af00\">64</span>)             │         <span style=\"color: #00af00; text-decoration-color: #00af00\">8,256</span> │\n",
       "├─────────────────────────────────┼────────────────────────┼───────────────┤\n",
       "│ L3 (<span style=\"color: #0087ff; text-decoration-color: #0087ff\">Dense</span>)                      │ (<span style=\"color: #00d7ff; text-decoration-color: #00d7ff\">None</span>, <span style=\"color: #00af00; text-decoration-color: #00af00\">64</span>)             │         <span style=\"color: #00af00; text-decoration-color: #00af00\">4,160</span> │\n",
       "├─────────────────────────────────┼────────────────────────┼───────────────┤\n",
       "│ output (<span style=\"color: #0087ff; text-decoration-color: #0087ff\">Dense</span>)                  │ (<span style=\"color: #00d7ff; text-decoration-color: #00d7ff\">None</span>, <span style=\"color: #00af00; text-decoration-color: #00af00\">3</span>)              │           <span style=\"color: #00af00; text-decoration-color: #00af00\">195</span> │\n",
       "└─────────────────────────────────┴────────────────────────┴───────────────┘\n",
       "</pre>\n"
      ],
      "text/plain": [
       "┏━━━━━━━━━━━━━━━━━━━━━━━━━━━━━━━━━┳━━━━━━━━━━━━━━━━━━━━━━━━┳━━━━━━━━━━━━━━━┓\n",
       "┃\u001b[1m \u001b[0m\u001b[1mLayer (type)                   \u001b[0m\u001b[1m \u001b[0m┃\u001b[1m \u001b[0m\u001b[1mOutput Shape          \u001b[0m\u001b[1m \u001b[0m┃\u001b[1m \u001b[0m\u001b[1m      Param #\u001b[0m\u001b[1m \u001b[0m┃\n",
       "┡━━━━━━━━━━━━━━━━━━━━━━━━━━━━━━━━━╇━━━━━━━━━━━━━━━━━━━━━━━━╇━━━━━━━━━━━━━━━┩\n",
       "│ flatten_7 (\u001b[38;5;33mFlatten\u001b[0m)             │ (\u001b[38;5;45mNone\u001b[0m, \u001b[38;5;34m90000\u001b[0m)          │             \u001b[38;5;34m0\u001b[0m │\n",
       "├─────────────────────────────────┼────────────────────────┼───────────────┤\n",
       "│ L1 (\u001b[38;5;33mDense\u001b[0m)                      │ (\u001b[38;5;45mNone\u001b[0m, \u001b[38;5;34m128\u001b[0m)            │    \u001b[38;5;34m11,520,128\u001b[0m │\n",
       "├─────────────────────────────────┼────────────────────────┼───────────────┤\n",
       "│ L2 (\u001b[38;5;33mDense\u001b[0m)                      │ (\u001b[38;5;45mNone\u001b[0m, \u001b[38;5;34m64\u001b[0m)             │         \u001b[38;5;34m8,256\u001b[0m │\n",
       "├─────────────────────────────────┼────────────────────────┼───────────────┤\n",
       "│ L3 (\u001b[38;5;33mDense\u001b[0m)                      │ (\u001b[38;5;45mNone\u001b[0m, \u001b[38;5;34m64\u001b[0m)             │         \u001b[38;5;34m4,160\u001b[0m │\n",
       "├─────────────────────────────────┼────────────────────────┼───────────────┤\n",
       "│ output (\u001b[38;5;33mDense\u001b[0m)                  │ (\u001b[38;5;45mNone\u001b[0m, \u001b[38;5;34m3\u001b[0m)              │           \u001b[38;5;34m195\u001b[0m │\n",
       "└─────────────────────────────────┴────────────────────────┴───────────────┘\n"
      ]
     },
     "metadata": {},
     "output_type": "display_data"
    },
    {
     "data": {
      "text/html": [
       "<pre style=\"white-space:pre;overflow-x:auto;line-height:normal;font-family:Menlo,'DejaVu Sans Mono',consolas,'Courier New',monospace\"><span style=\"font-weight: bold\"> Total params: </span><span style=\"color: #00af00; text-decoration-color: #00af00\">11,532,739</span> (43.99 MB)\n",
       "</pre>\n"
      ],
      "text/plain": [
       "\u001b[1m Total params: \u001b[0m\u001b[38;5;34m11,532,739\u001b[0m (43.99 MB)\n"
      ]
     },
     "metadata": {},
     "output_type": "display_data"
    },
    {
     "data": {
      "text/html": [
       "<pre style=\"white-space:pre;overflow-x:auto;line-height:normal;font-family:Menlo,'DejaVu Sans Mono',consolas,'Courier New',monospace\"><span style=\"font-weight: bold\"> Trainable params: </span><span style=\"color: #00af00; text-decoration-color: #00af00\">11,532,739</span> (43.99 MB)\n",
       "</pre>\n"
      ],
      "text/plain": [
       "\u001b[1m Trainable params: \u001b[0m\u001b[38;5;34m11,532,739\u001b[0m (43.99 MB)\n"
      ]
     },
     "metadata": {},
     "output_type": "display_data"
    },
    {
     "data": {
      "text/html": [
       "<pre style=\"white-space:pre;overflow-x:auto;line-height:normal;font-family:Menlo,'DejaVu Sans Mono',consolas,'Courier New',monospace\"><span style=\"font-weight: bold\"> Non-trainable params: </span><span style=\"color: #00af00; text-decoration-color: #00af00\">0</span> (0.00 B)\n",
       "</pre>\n"
      ],
      "text/plain": [
       "\u001b[1m Non-trainable params: \u001b[0m\u001b[38;5;34m0\u001b[0m (0.00 B)\n"
      ]
     },
     "metadata": {},
     "output_type": "display_data"
    }
   ],
   "source": [
    "model = Sequential([\n",
    "    layers.Flatten(input_shape=(300, 300, 1)),  # Input layer to flatten the image\n",
    "    layers.Dense(128, activation='relu', name=\"L1\"),  # Increased neurons\n",
    "    layers.Dense(64, activation='relu', name=\"L2\"),\n",
    "    layers.Dense(64, activation='relu', name=\"L3\"),\n",
    "    layers.Dense(3, activation='softmax', name=\"output\")  # Output layer for 3 classes\n",
    "])\n",
    "\n",
    "# Compile the model\n",
    "model.compile(\n",
    "    optimizer=tf.keras.optimizers.Adam(learning_rate=0.0001),  # Standard learning rate\n",
    "    loss=tf.keras.losses.SparseCategoricalCrossentropy(from_logits=False),\n",
    "    metrics=['accuracy']\n",
    ")\n",
    "\n",
    "model.summary()"
   ]
  },
  {
   "cell_type": "markdown",
   "metadata": {},
   "source": [
    "### Train model"
   ]
  },
  {
   "cell_type": "code",
   "execution_count": 25,
   "metadata": {},
   "outputs": [
    {
     "name": "stdout",
     "output_type": "stream",
     "text": [
      "Epoch 1/200\n",
      "\u001b[1m32/32\u001b[0m \u001b[32m━━━━━━━━━━━━━━━━━━━━\u001b[0m\u001b[37m\u001b[0m \u001b[1m4s\u001b[0m 32ms/step - accuracy: 0.3413 - loss: 2.6099 - val_accuracy: 0.4715 - val_loss: 0.9326\n",
      "Epoch 2/200\n",
      "\u001b[1m32/32\u001b[0m \u001b[32m━━━━━━━━━━━━━━━━━━━━\u001b[0m\u001b[37m\u001b[0m \u001b[1m3s\u001b[0m 27ms/step - accuracy: 0.4663 - loss: 0.9956 - val_accuracy: 0.5877 - val_loss: 0.8062\n",
      "Epoch 3/200\n",
      "\u001b[1m32/32\u001b[0m \u001b[32m━━━━━━━━━━━━━━━━━━━━\u001b[0m\u001b[37m\u001b[0m \u001b[1m3s\u001b[0m 27ms/step - accuracy: 0.7110 - loss: 0.7665 - val_accuracy: 0.7973 - val_loss: 0.6668\n",
      "Epoch 4/200\n",
      "\u001b[1m32/32\u001b[0m \u001b[32m━━━━━━━━━━━━━━━━━━━━\u001b[0m\u001b[37m\u001b[0m \u001b[1m3s\u001b[0m 26ms/step - accuracy: 0.8012 - loss: 0.6465 - val_accuracy: 0.7790 - val_loss: 0.6141\n",
      "Epoch 5/200\n",
      "\u001b[1m32/32\u001b[0m \u001b[32m━━━━━━━━━━━━━━━━━━━━\u001b[0m\u001b[37m\u001b[0m \u001b[1m3s\u001b[0m 26ms/step - accuracy: 0.8123 - loss: 0.5837 - val_accuracy: 0.8542 - val_loss: 0.5328\n",
      "Epoch 6/200\n",
      "\u001b[1m32/32\u001b[0m \u001b[32m━━━━━━━━━━━━━━━━━━━━\u001b[0m\u001b[37m\u001b[0m \u001b[1m3s\u001b[0m 28ms/step - accuracy: 0.7599 - loss: 0.6056 - val_accuracy: 0.8018 - val_loss: 0.5357\n",
      "Epoch 7/200\n",
      "\u001b[1m32/32\u001b[0m \u001b[32m━━━━━━━━━━━━━━━━━━━━\u001b[0m\u001b[37m\u001b[0m \u001b[1m3s\u001b[0m 27ms/step - accuracy: 0.8382 - loss: 0.5018 - val_accuracy: 0.8633 - val_loss: 0.4641\n",
      "Epoch 8/200\n",
      "\u001b[1m32/32\u001b[0m \u001b[32m━━━━━━━━━━━━━━━━━━━━\u001b[0m\u001b[37m\u001b[0m \u001b[1m3s\u001b[0m 27ms/step - accuracy: 0.8768 - loss: 0.4409 - val_accuracy: 0.8383 - val_loss: 0.4499\n",
      "Epoch 9/200\n",
      "\u001b[1m32/32\u001b[0m \u001b[32m━━━━━━━━━━━━━━━━━━━━\u001b[0m\u001b[37m\u001b[0m \u001b[1m3s\u001b[0m 27ms/step - accuracy: 0.8542 - loss: 0.4578 - val_accuracy: 0.7950 - val_loss: 0.5354\n",
      "Epoch 10/200\n",
      "\u001b[1m32/32\u001b[0m \u001b[32m━━━━━━━━━━━━━━━━━━━━\u001b[0m\u001b[37m\u001b[0m \u001b[1m3s\u001b[0m 26ms/step - accuracy: 0.8535 - loss: 0.4295 - val_accuracy: 0.7380 - val_loss: 0.5825\n",
      "Epoch 11/200\n",
      "\u001b[1m32/32\u001b[0m \u001b[32m━━━━━━━━━━━━━━━━━━━━\u001b[0m\u001b[37m\u001b[0m \u001b[1m3s\u001b[0m 29ms/step - accuracy: 0.8436 - loss: 0.4349 - val_accuracy: 0.9180 - val_loss: 0.3467\n",
      "Epoch 12/200\n",
      "\u001b[1m32/32\u001b[0m \u001b[32m━━━━━━━━━━━━━━━━━━━━\u001b[0m\u001b[37m\u001b[0m \u001b[1m3s\u001b[0m 27ms/step - accuracy: 0.8477 - loss: 0.4175 - val_accuracy: 0.9180 - val_loss: 0.3391\n",
      "Epoch 13/200\n",
      "\u001b[1m32/32\u001b[0m \u001b[32m━━━━━━━━━━━━━━━━━━━━\u001b[0m\u001b[37m\u001b[0m \u001b[1m3s\u001b[0m 28ms/step - accuracy: 0.9123 - loss: 0.3254 - val_accuracy: 0.8679 - val_loss: 0.3666\n",
      "Epoch 14/200\n",
      "\u001b[1m32/32\u001b[0m \u001b[32m━━━━━━━━━━━━━━━━━━━━\u001b[0m\u001b[37m\u001b[0m \u001b[1m3s\u001b[0m 28ms/step - accuracy: 0.9110 - loss: 0.3101 - val_accuracy: 0.9248 - val_loss: 0.3126\n",
      "Epoch 15/200\n",
      "\u001b[1m32/32\u001b[0m \u001b[32m━━━━━━━━━━━━━━━━━━━━\u001b[0m\u001b[37m\u001b[0m \u001b[1m3s\u001b[0m 28ms/step - accuracy: 0.9217 - loss: 0.3014 - val_accuracy: 0.9271 - val_loss: 0.2882\n",
      "Epoch 16/200\n",
      "\u001b[1m32/32\u001b[0m \u001b[32m━━━━━━━━━━━━━━━━━━━━\u001b[0m\u001b[37m\u001b[0m \u001b[1m3s\u001b[0m 29ms/step - accuracy: 0.9165 - loss: 0.2959 - val_accuracy: 0.8565 - val_loss: 0.3604\n",
      "Epoch 17/200\n",
      "\u001b[1m32/32\u001b[0m \u001b[32m━━━━━━━━━━━━━━━━━━━━\u001b[0m\u001b[37m\u001b[0m \u001b[1m3s\u001b[0m 28ms/step - accuracy: 0.9062 - loss: 0.3053 - val_accuracy: 0.9294 - val_loss: 0.2734\n",
      "Epoch 18/200\n",
      "\u001b[1m32/32\u001b[0m \u001b[32m━━━━━━━━━━━━━━━━━━━━\u001b[0m\u001b[37m\u001b[0m \u001b[1m3s\u001b[0m 27ms/step - accuracy: 0.9347 - loss: 0.2544 - val_accuracy: 0.9066 - val_loss: 0.3147\n",
      "Epoch 19/200\n",
      "\u001b[1m32/32\u001b[0m \u001b[32m━━━━━━━━━━━━━━━━━━━━\u001b[0m\u001b[37m\u001b[0m \u001b[1m3s\u001b[0m 27ms/step - accuracy: 0.9128 - loss: 0.2737 - val_accuracy: 0.9385 - val_loss: 0.2547\n",
      "Epoch 20/200\n",
      "\u001b[1m32/32\u001b[0m \u001b[32m━━━━━━━━━━━━━━━━━━━━\u001b[0m\u001b[37m\u001b[0m \u001b[1m3s\u001b[0m 29ms/step - accuracy: 0.9494 - loss: 0.2289 - val_accuracy: 0.9157 - val_loss: 0.2946\n",
      "Epoch 21/200\n",
      "\u001b[1m32/32\u001b[0m \u001b[32m━━━━━━━━━━━━━━━━━━━━\u001b[0m\u001b[37m\u001b[0m \u001b[1m3s\u001b[0m 29ms/step - accuracy: 0.9465 - loss: 0.2352 - val_accuracy: 0.9385 - val_loss: 0.2217\n",
      "Epoch 22/200\n",
      "\u001b[1m32/32\u001b[0m \u001b[32m━━━━━━━━━━━━━━━━━━━━\u001b[0m\u001b[37m\u001b[0m \u001b[1m3s\u001b[0m 28ms/step - accuracy: 0.9480 - loss: 0.2129 - val_accuracy: 0.7768 - val_loss: 0.5202\n",
      "Epoch 23/200\n",
      "\u001b[1m32/32\u001b[0m \u001b[32m━━━━━━━━━━━━━━━━━━━━\u001b[0m\u001b[37m\u001b[0m \u001b[1m3s\u001b[0m 26ms/step - accuracy: 0.9296 - loss: 0.2374 - val_accuracy: 0.9431 - val_loss: 0.2256\n",
      "Epoch 24/200\n",
      "\u001b[1m32/32\u001b[0m \u001b[32m━━━━━━━━━━━━━━━━━━━━\u001b[0m\u001b[37m\u001b[0m \u001b[1m3s\u001b[0m 29ms/step - accuracy: 0.9580 - loss: 0.1955 - val_accuracy: 0.9453 - val_loss: 0.2352\n",
      "Epoch 25/200\n",
      "\u001b[1m32/32\u001b[0m \u001b[32m━━━━━━━━━━━━━━━━━━━━\u001b[0m\u001b[37m\u001b[0m \u001b[1m3s\u001b[0m 26ms/step - accuracy: 0.9555 - loss: 0.1819 - val_accuracy: 0.9271 - val_loss: 0.2484\n",
      "Epoch 26/200\n",
      "\u001b[1m32/32\u001b[0m \u001b[32m━━━━━━━━━━━━━━━━━━━━\u001b[0m\u001b[37m\u001b[0m \u001b[1m3s\u001b[0m 28ms/step - accuracy: 0.9438 - loss: 0.2063 - val_accuracy: 0.9112 - val_loss: 0.2207\n",
      "Epoch 27/200\n",
      "\u001b[1m32/32\u001b[0m \u001b[32m━━━━━━━━━━━━━━━━━━━━\u001b[0m\u001b[37m\u001b[0m \u001b[1m3s\u001b[0m 27ms/step - accuracy: 0.9543 - loss: 0.1955 - val_accuracy: 0.9339 - val_loss: 0.2455\n",
      "Epoch 28/200\n",
      "\u001b[1m32/32\u001b[0m \u001b[32m━━━━━━━━━━━━━━━━━━━━\u001b[0m\u001b[37m\u001b[0m \u001b[1m3s\u001b[0m 28ms/step - accuracy: 0.9333 - loss: 0.2170 - val_accuracy: 0.9180 - val_loss: 0.2619\n",
      "Epoch 29/200\n",
      "\u001b[1m32/32\u001b[0m \u001b[32m━━━━━━━━━━━━━━━━━━━━\u001b[0m\u001b[37m\u001b[0m \u001b[1m3s\u001b[0m 29ms/step - accuracy: 0.9451 - loss: 0.1962 - val_accuracy: 0.9385 - val_loss: 0.2159\n",
      "Epoch 30/200\n",
      "\u001b[1m32/32\u001b[0m \u001b[32m━━━━━━━━━━━━━━━━━━━━\u001b[0m\u001b[37m\u001b[0m \u001b[1m3s\u001b[0m 27ms/step - accuracy: 0.9575 - loss: 0.1793 - val_accuracy: 0.9636 - val_loss: 0.1742\n",
      "Epoch 31/200\n",
      "\u001b[1m32/32\u001b[0m \u001b[32m━━━━━━━━━━━━━━━━━━━━\u001b[0m\u001b[37m\u001b[0m \u001b[1m3s\u001b[0m 31ms/step - accuracy: 0.9706 - loss: 0.1297 - val_accuracy: 0.9636 - val_loss: 0.1523\n",
      "Epoch 32/200\n",
      "\u001b[1m32/32\u001b[0m \u001b[32m━━━━━━━━━━━━━━━━━━━━\u001b[0m\u001b[37m\u001b[0m \u001b[1m3s\u001b[0m 29ms/step - accuracy: 0.9633 - loss: 0.1519 - val_accuracy: 0.8929 - val_loss: 0.2438\n",
      "Epoch 33/200\n",
      "\u001b[1m32/32\u001b[0m \u001b[32m━━━━━━━━━━━━━━━━━━━━\u001b[0m\u001b[37m\u001b[0m \u001b[1m3s\u001b[0m 27ms/step - accuracy: 0.9392 - loss: 0.1827 - val_accuracy: 0.9613 - val_loss: 0.1346\n",
      "Epoch 34/200\n",
      "\u001b[1m32/32\u001b[0m \u001b[32m━━━━━━━━━━━━━━━━━━━━\u001b[0m\u001b[37m\u001b[0m \u001b[1m3s\u001b[0m 26ms/step - accuracy: 0.9637 - loss: 0.1522 - val_accuracy: 0.9658 - val_loss: 0.1364\n",
      "Epoch 35/200\n",
      "\u001b[1m32/32\u001b[0m \u001b[32m━━━━━━━━━━━━━━━━━━━━\u001b[0m\u001b[37m\u001b[0m \u001b[1m3s\u001b[0m 26ms/step - accuracy: 0.9723 - loss: 0.1197 - val_accuracy: 0.9522 - val_loss: 0.1498\n",
      "Epoch 36/200\n",
      "\u001b[1m32/32\u001b[0m \u001b[32m━━━━━━━━━━━━━━━━━━━━\u001b[0m\u001b[37m\u001b[0m \u001b[1m3s\u001b[0m 27ms/step - accuracy: 0.9624 - loss: 0.1268 - val_accuracy: 0.9749 - val_loss: 0.1306\n",
      "Epoch 37/200\n",
      "\u001b[1m32/32\u001b[0m \u001b[32m━━━━━━━━━━━━━━━━━━━━\u001b[0m\u001b[37m\u001b[0m \u001b[1m3s\u001b[0m 26ms/step - accuracy: 0.9577 - loss: 0.1446 - val_accuracy: 0.9157 - val_loss: 0.1895\n",
      "Epoch 38/200\n",
      "\u001b[1m32/32\u001b[0m \u001b[32m━━━━━━━━━━━━━━━━━━━━\u001b[0m\u001b[37m\u001b[0m \u001b[1m3s\u001b[0m 28ms/step - accuracy: 0.9539 - loss: 0.1669 - val_accuracy: 0.9613 - val_loss: 0.1648\n",
      "Epoch 39/200\n",
      "\u001b[1m32/32\u001b[0m \u001b[32m━━━━━━━━━━━━━━━━━━━━\u001b[0m\u001b[37m\u001b[0m \u001b[1m3s\u001b[0m 27ms/step - accuracy: 0.9526 - loss: 0.1469 - val_accuracy: 0.9636 - val_loss: 0.1431\n",
      "Epoch 40/200\n",
      "\u001b[1m32/32\u001b[0m \u001b[32m━━━━━━━━━━━━━━━━━━━━\u001b[0m\u001b[37m\u001b[0m \u001b[1m3s\u001b[0m 27ms/step - accuracy: 0.9695 - loss: 0.1192 - val_accuracy: 0.9727 - val_loss: 0.1287\n",
      "Epoch 41/200\n",
      "\u001b[1m32/32\u001b[0m \u001b[32m━━━━━━━━━━━━━━━━━━━━\u001b[0m\u001b[37m\u001b[0m \u001b[1m4s\u001b[0m 26ms/step - accuracy: 0.9783 - loss: 0.0813 - val_accuracy: 0.9453 - val_loss: 0.1352\n",
      "Epoch 42/200\n",
      "\u001b[1m32/32\u001b[0m \u001b[32m━━━━━━━━━━━━━━━━━━━━\u001b[0m\u001b[37m\u001b[0m \u001b[1m3s\u001b[0m 28ms/step - accuracy: 0.9694 - loss: 0.1052 - val_accuracy: 0.9681 - val_loss: 0.1169\n",
      "Epoch 43/200\n",
      "\u001b[1m32/32\u001b[0m \u001b[32m━━━━━━━━━━━━━━━━━━━━\u001b[0m\u001b[37m\u001b[0m \u001b[1m3s\u001b[0m 27ms/step - accuracy: 0.9751 - loss: 0.0918 - val_accuracy: 0.9795 - val_loss: 0.0958\n",
      "Epoch 44/200\n",
      "\u001b[1m32/32\u001b[0m \u001b[32m━━━━━━━━━━━━━━━━━━━━\u001b[0m\u001b[37m\u001b[0m \u001b[1m3s\u001b[0m 30ms/step - accuracy: 0.9723 - loss: 0.1054 - val_accuracy: 0.9089 - val_loss: 0.2159\n",
      "Epoch 45/200\n",
      "\u001b[1m32/32\u001b[0m \u001b[32m━━━━━━━━━━━━━━━━━━━━\u001b[0m\u001b[37m\u001b[0m \u001b[1m3s\u001b[0m 27ms/step - accuracy: 0.9353 - loss: 0.1528 - val_accuracy: 0.9772 - val_loss: 0.0910\n",
      "Epoch 46/200\n",
      "\u001b[1m32/32\u001b[0m \u001b[32m━━━━━━━━━━━━━━━━━━━━\u001b[0m\u001b[37m\u001b[0m \u001b[1m3s\u001b[0m 27ms/step - accuracy: 0.9838 - loss: 0.0681 - val_accuracy: 0.9818 - val_loss: 0.0740\n",
      "Epoch 47/200\n",
      "\u001b[1m32/32\u001b[0m \u001b[32m━━━━━━━━━━━━━━━━━━━━\u001b[0m\u001b[37m\u001b[0m \u001b[1m3s\u001b[0m 26ms/step - accuracy: 0.9824 - loss: 0.0665 - val_accuracy: 0.9681 - val_loss: 0.0792\n",
      "Epoch 48/200\n",
      "\u001b[1m32/32\u001b[0m \u001b[32m━━━━━━━━━━━━━━━━━━━━\u001b[0m\u001b[37m\u001b[0m \u001b[1m3s\u001b[0m 26ms/step - accuracy: 0.9800 - loss: 0.0614 - val_accuracy: 0.9795 - val_loss: 0.0866\n",
      "Epoch 49/200\n",
      "\u001b[1m32/32\u001b[0m \u001b[32m━━━━━━━━━━━━━━━━━━━━\u001b[0m\u001b[37m\u001b[0m \u001b[1m4s\u001b[0m 27ms/step - accuracy: 0.9834 - loss: 0.0589 - val_accuracy: 0.9567 - val_loss: 0.1330\n",
      "Epoch 50/200\n",
      "\u001b[1m32/32\u001b[0m \u001b[32m━━━━━━━━━━━━━━━━━━━━\u001b[0m\u001b[37m\u001b[0m \u001b[1m3s\u001b[0m 31ms/step - accuracy: 0.9902 - loss: 0.0510 - val_accuracy: 0.9727 - val_loss: 0.1000\n",
      "Epoch 51/200\n",
      "\u001b[1m32/32\u001b[0m \u001b[32m━━━━━━━━━━━━━━━━━━━━\u001b[0m\u001b[37m\u001b[0m \u001b[1m3s\u001b[0m 28ms/step - accuracy: 0.9779 - loss: 0.0800 - val_accuracy: 0.9841 - val_loss: 0.0734\n",
      "Epoch 52/200\n",
      "\u001b[1m32/32\u001b[0m \u001b[32m━━━━━━━━━━━━━━━━━━━━\u001b[0m\u001b[37m\u001b[0m \u001b[1m3s\u001b[0m 31ms/step - accuracy: 0.9863 - loss: 0.0582 - val_accuracy: 0.9818 - val_loss: 0.0579\n",
      "Epoch 53/200\n",
      "\u001b[1m32/32\u001b[0m \u001b[32m━━━━━━━━━━━━━━━━━━━━\u001b[0m\u001b[37m\u001b[0m \u001b[1m3s\u001b[0m 27ms/step - accuracy: 0.9893 - loss: 0.0386 - val_accuracy: 0.9636 - val_loss: 0.1271\n",
      "Epoch 54/200\n",
      "\u001b[1m32/32\u001b[0m \u001b[32m━━━━━━━━━━━━━━━━━━━━\u001b[0m\u001b[37m\u001b[0m \u001b[1m3s\u001b[0m 28ms/step - accuracy: 0.9839 - loss: 0.0632 - val_accuracy: 0.9863 - val_loss: 0.0519\n",
      "Epoch 55/200\n",
      "\u001b[1m32/32\u001b[0m \u001b[32m━━━━━━━━━━━━━━━━━━━━\u001b[0m\u001b[37m\u001b[0m \u001b[1m3s\u001b[0m 29ms/step - accuracy: 0.9919 - loss: 0.0381 - val_accuracy: 0.9863 - val_loss: 0.0469\n",
      "Epoch 56/200\n",
      "\u001b[1m32/32\u001b[0m \u001b[32m━━━━━━━━━━━━━━━━━━━━\u001b[0m\u001b[37m\u001b[0m \u001b[1m3s\u001b[0m 28ms/step - accuracy: 0.9939 - loss: 0.0302 - val_accuracy: 0.9841 - val_loss: 0.0467\n",
      "Epoch 57/200\n",
      "\u001b[1m32/32\u001b[0m \u001b[32m━━━━━━━━━━━━━━━━━━━━\u001b[0m\u001b[37m\u001b[0m \u001b[1m3s\u001b[0m 27ms/step - accuracy: 0.9889 - loss: 0.0397 - val_accuracy: 0.9772 - val_loss: 0.0555\n",
      "Epoch 58/200\n",
      "\u001b[1m32/32\u001b[0m \u001b[32m━━━━━━━━━━━━━━━━━━━━\u001b[0m\u001b[37m\u001b[0m \u001b[1m3s\u001b[0m 27ms/step - accuracy: 0.9863 - loss: 0.0450 - val_accuracy: 0.9704 - val_loss: 0.0993\n",
      "Epoch 59/200\n",
      "\u001b[1m32/32\u001b[0m \u001b[32m━━━━━━━━━━━━━━━━━━━━\u001b[0m\u001b[37m\u001b[0m \u001b[1m3s\u001b[0m 27ms/step - accuracy: 0.9873 - loss: 0.0462 - val_accuracy: 0.9886 - val_loss: 0.0395\n",
      "Epoch 60/200\n",
      "\u001b[1m32/32\u001b[0m \u001b[32m━━━━━━━━━━━━━━━━━━━━\u001b[0m\u001b[37m\u001b[0m \u001b[1m3s\u001b[0m 25ms/step - accuracy: 0.9931 - loss: 0.0287 - val_accuracy: 0.9886 - val_loss: 0.0533\n",
      "Epoch 61/200\n",
      "\u001b[1m32/32\u001b[0m \u001b[32m━━━━━━━━━━━━━━━━━━━━\u001b[0m\u001b[37m\u001b[0m \u001b[1m3s\u001b[0m 28ms/step - accuracy: 0.9965 - loss: 0.0231 - val_accuracy: 0.9909 - val_loss: 0.0390\n",
      "Epoch 62/200\n",
      "\u001b[1m32/32\u001b[0m \u001b[32m━━━━━━━━━━━━━━━━━━━━\u001b[0m\u001b[37m\u001b[0m \u001b[1m3s\u001b[0m 30ms/step - accuracy: 0.9955 - loss: 0.0228 - val_accuracy: 0.9886 - val_loss: 0.0414\n",
      "Epoch 63/200\n",
      "\u001b[1m32/32\u001b[0m \u001b[32m━━━━━━━━━━━━━━━━━━━━\u001b[0m\u001b[37m\u001b[0m \u001b[1m3s\u001b[0m 28ms/step - accuracy: 0.9919 - loss: 0.0343 - val_accuracy: 0.9932 - val_loss: 0.0313\n",
      "Epoch 64/200\n",
      "\u001b[1m32/32\u001b[0m \u001b[32m━━━━━━━━━━━━━━━━━━━━\u001b[0m\u001b[37m\u001b[0m \u001b[1m3s\u001b[0m 27ms/step - accuracy: 0.9869 - loss: 0.0420 - val_accuracy: 0.8428 - val_loss: 0.3740\n",
      "Epoch 65/200\n",
      "\u001b[1m32/32\u001b[0m \u001b[32m━━━━━━━━━━━━━━━━━━━━\u001b[0m\u001b[37m\u001b[0m \u001b[1m3s\u001b[0m 28ms/step - accuracy: 0.8873 - loss: 0.2850 - val_accuracy: 0.9681 - val_loss: 0.1024\n",
      "Epoch 66/200\n",
      "\u001b[1m32/32\u001b[0m \u001b[32m━━━━━━━━━━━━━━━━━━━━\u001b[0m\u001b[37m\u001b[0m \u001b[1m3s\u001b[0m 28ms/step - accuracy: 0.9252 - loss: 0.1886 - val_accuracy: 0.9658 - val_loss: 0.0984\n",
      "Epoch 67/200\n",
      "\u001b[1m32/32\u001b[0m \u001b[32m━━━━━━━━━━━━━━━━━━━━\u001b[0m\u001b[37m\u001b[0m \u001b[1m3s\u001b[0m 29ms/step - accuracy: 0.9904 - loss: 0.0481 - val_accuracy: 0.9909 - val_loss: 0.0492\n",
      "Epoch 68/200\n",
      "\u001b[1m32/32\u001b[0m \u001b[32m━━━━━━━━━━━━━━━━━━━━\u001b[0m\u001b[37m\u001b[0m \u001b[1m3s\u001b[0m 27ms/step - accuracy: 0.9936 - loss: 0.0375 - val_accuracy: 0.9795 - val_loss: 0.0778\n",
      "Epoch 69/200\n",
      "\u001b[1m32/32\u001b[0m \u001b[32m━━━━━━━━━━━━━━━━━━━━\u001b[0m\u001b[37m\u001b[0m \u001b[1m3s\u001b[0m 28ms/step - accuracy: 0.9770 - loss: 0.0647 - val_accuracy: 0.9932 - val_loss: 0.0371\n",
      "Epoch 70/200\n",
      "\u001b[1m32/32\u001b[0m \u001b[32m━━━━━━━━━━━━━━━━━━━━\u001b[0m\u001b[37m\u001b[0m \u001b[1m3s\u001b[0m 26ms/step - accuracy: 0.9975 - loss: 0.0252 - val_accuracy: 0.9841 - val_loss: 0.0623\n",
      "Epoch 71/200\n",
      "\u001b[1m32/32\u001b[0m \u001b[32m━━━━━━━━━━━━━━━━━━━━\u001b[0m\u001b[37m\u001b[0m \u001b[1m3s\u001b[0m 30ms/step - accuracy: 0.9958 - loss: 0.0280 - val_accuracy: 0.9909 - val_loss: 0.0411\n",
      "Epoch 72/200\n",
      "\u001b[1m32/32\u001b[0m \u001b[32m━━━━━━━━━━━━━━━━━━━━\u001b[0m\u001b[37m\u001b[0m \u001b[1m3s\u001b[0m 27ms/step - accuracy: 0.9901 - loss: 0.0434 - val_accuracy: 0.9932 - val_loss: 0.0340\n",
      "Epoch 73/200\n",
      "\u001b[1m32/32\u001b[0m \u001b[32m━━━━━━━━━━━━━━━━━━━━\u001b[0m\u001b[37m\u001b[0m \u001b[1m3s\u001b[0m 27ms/step - accuracy: 0.9972 - loss: 0.0257 - val_accuracy: 0.9886 - val_loss: 0.0429\n"
     ]
    }
   ],
   "source": [
    "early_stopping = tf.keras.callbacks.EarlyStopping(\n",
    "    monitor='val_loss',\n",
    "    patience=10,\n",
    "    restore_best_weights=True\n",
    ")\n",
    "\n",
    "# Train the model\n",
    "history = model.fit(\n",
    "    train_dataset,\n",
    "    validation_data=val_dataset,  # Use the validation dataset\n",
    "    epochs=200,\n",
    "    callbacks=[early_stopping]\n",
    ")"
   ]
  },
  {
   "cell_type": "markdown",
   "metadata": {},
   "source": [
    "### Predict with model and visualize training and validation results"
   ]
  },
  {
   "cell_type": "code",
   "execution_count": 26,
   "metadata": {},
   "outputs": [
    {
     "data": {
      "image/png": "[encoded data removed]",
      "text/plain": [
       "<Figure size 640x480 with 1 Axes>"
      ]
     },
     "metadata": {},
     "output_type": "display_data"
    },
    {
     "data": {
      "image/png": "[encoded data removed]",
      "text/plain": [
       "<Figure size 640x480 with 1 Axes>"
      ]
     },
     "metadata": {},
     "output_type": "display_data"
    }
   ],
   "source": [
    "# Plot accuracy\n",
    "plt.plot(history.history['accuracy'], label='Train Accuracy')\n",
    "plt.plot(history.history['val_accuracy'], label='Validation Accuracy')\n",
    "plt.title('Accuracy')\n",
    "plt.xlabel('Epochs')\n",
    "plt.ylabel('Accuracy')\n",
    "plt.legend()\n",
    "plt.show()\n",
    "\n",
    "# Plot loss\n",
    "plt.plot(history.history['loss'], label='Train Loss')\n",
    "plt.plot(history.history['val_loss'], label='Validation Loss')\n",
    "plt.title('Loss')\n",
    "plt.xlabel('Epochs')\n",
    "plt.ylabel('Loss')\n",
    "plt.ylim(0, 0.5)  # Replace ymin and ymax with your desired limits\n",
    "plt.legend()\n",
    "plt.show()"
   ]
  },
  {
   "cell_type": "markdown",
   "metadata": {},
   "source": [
    "### Evaluate model with test dataset"
   ]
  },
  {
   "cell_type": "code",
   "execution_count": 28,
   "metadata": {},
   "outputs": [
    {
     "name": "stdout",
     "output_type": "stream",
     "text": [
      "\u001b[1m7/7\u001b[0m \u001b[32m━━━━━━━━━━━━━━━━━━━━\u001b[0m\u001b[37m\u001b[0m \u001b[1m0s\u001b[0m 56ms/step - accuracy: 0.9953 - loss: 0.0247\n",
      "Test Accuracy: 0.9953703880310059\n"
     ]
    }
   ],
   "source": [
    "# Evaluate the model\n",
    "test_loss, test_acc = model.evaluate(test_dataset)\n",
    "print(f\"Test Accuracy: {test_acc}\")"
   ]
  },
  {
   "cell_type": "code",
   "execution_count": 27,
   "metadata": {},
   "outputs": [
    {
     "name": "stdout",
     "output_type": "stream",
     "text": [
      "Train Loss: 0.01572689600288868, Train Accuracy: 1.0\n"
     ]
    },
    {
     "name": "stderr",
     "output_type": "stream",
     "text": [
      "2024-12-10 15:27:27.988313: W tensorflow/core/framework/local_rendezvous.cc:404] Local rendezvous is aborting with status: OUT_OF_RANGE: End of sequence\n"
     ]
    },
    {
     "name": "stdout",
     "output_type": "stream",
     "text": [
      "Validation Loss: 0.031291134655475616, Validation Accuracy: 0.9931662678718567\n"
     ]
    }
   ],
   "source": [
    "# Evaluate one batch of training data\n",
    "for X_batch, Y_batch in train_dataset.take(1):\n",
    "    train_loss, train_acc = model.evaluate(X_batch, Y_batch, verbose=0)\n",
    "    print(f\"Train Loss: {train_loss}, Train Accuracy: {train_acc}\")\n",
    "\n",
    "# Evaluate the validation data\n",
    "val_loss, val_acc = model.evaluate(X_val, Y_val, verbose=0)\n",
    "print(f\"Validation Loss: {val_loss}, Validation Accuracy: {val_acc}\")\n",
    "\n"
   ]
  }
 ],
 "metadata": {
  "kernelspec": {
   "display_name": "Python 3 (ipykernel)",
   "language": "python",
   "name": "python3"
  },
  "language_info": {
   "codemirror_mode": {
    "name": "ipython",
    "version": 3
   },
   "file_extension": ".py",
   "mimetype": "text/x-python",
   "name": "python",
   "nbconvert_exporter": "python",
   "pygments_lexer": "ipython3",
   "version": "3.11.9"
  }
 },
 "nbformat": 4,
 "nbformat_minor": 4
}
